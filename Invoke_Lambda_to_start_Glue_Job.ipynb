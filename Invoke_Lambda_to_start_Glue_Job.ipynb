{
  "nbformat": 4,
  "nbformat_minor": 0,
  "metadata": {
    "colab": {
      "provenance": [],
      "authorship_tag": "ABX9TyMoQaR2zBGwRVimA5K+HAbf",
      "include_colab_link": true
    },
    "kernelspec": {
      "name": "python3",
      "display_name": "Python 3"
    },
    "language_info": {
      "name": "python"
    }
  },
  "cells": [
    {
      "cell_type": "markdown",
      "metadata": {
        "id": "view-in-github",
        "colab_type": "text"
      },
      "source": [
        "<a href=\"https://colab.research.google.com/github/Apekshaa2908/Enhancing-E-Commerce-Agility-With-Advanced-ETL-Pipeline/blob/main/Invoke_Lambda_to_start_Glue_Job.ipynb\" target=\"_parent\"><img src=\"https://colab.research.google.com/assets/colab-badge.svg\" alt=\"Open In Colab\"/></a>"
      ]
    },
    {
      "cell_type": "code",
      "execution_count": null,
      "metadata": {
        "id": "zWr67JapeWE7"
      },
      "outputs": [],
      "source": [
        "import json\n",
        "import boto3\n",
        "\n",
        "def lambda_handler(event, context):\n",
        "    glue_client = boto3.client('glue')\n",
        "\n",
        "    # Define your parameters (Bucket names and file names)\n",
        "    order_bucket = 'enter-your-order-bucket-name-here'\n",
        "    return_bucket = 'enter-your-return-bucket-name-here'\n",
        "\n",
        "    try:\n",
        "        # Start the Glue job\n",
        "        response = glue_client.start_job_run(\n",
        "            JobName='enter-your-glue-job-name-here',\n",
        "            Arguments={\n",
        "                '--order-apekshaa': order_bucket,\n",
        "                '--order-table': 'enter-your-order-file-name-here.csv',\n",
        "                '--return-apekshaa': return_bucket,\n",
        "                '--return-table': 'enter-your-return-file-name-here.csv'\n",
        "            }\n",
        "        )\n",
        "        return {\n",
        "            'statusCode': 200,\n",
        "            'body': json.dumps({\n",
        "                'message': 'Glue job started successfully',\n",
        "                'jobRunId': response['JobRunId']\n",
        "            })\n",
        "        }\n",
        "    except Exception as e:\n",
        "        return {\n",
        "            'statusCode': 500,\n",
        "            'body': json.dumps({\n",
        "                'message': 'Error starting Glue job',\n",
        "                'error': str(e)\n",
        "            })\n",
        "        }\n"
      ]
    }
  ]
}