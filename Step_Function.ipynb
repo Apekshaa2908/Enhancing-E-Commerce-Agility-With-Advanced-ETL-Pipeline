{
  "nbformat": 4,
  "nbformat_minor": 0,
  "metadata": {
    "colab": {
      "provenance": [],
      "authorship_tag": "ABX9TyPwiE/VWuzegFgIVrtYO+bd",
      "include_colab_link": true
    },
    "kernelspec": {
      "name": "python3",
      "display_name": "Python 3"
    },
    "language_info": {
      "name": "python"
    }
  },
  "cells": [
    {
      "cell_type": "markdown",
      "metadata": {
        "id": "view-in-github",
        "colab_type": "text"
      },
      "source": [
        "<a href=\"https://colab.research.google.com/github/Apekshaa2908/Enhancing-E-Commerce-Agility-With-Advanced-ETL-Pipeline/blob/main/Step_Function.ipynb\" target=\"_parent\"><img src=\"https://colab.research.google.com/assets/colab-badge.svg\" alt=\"Open In Colab\"/></a>"
      ]
    },
    {
      "cell_type": "code",
      "source": [
        "{\n",
        "  \"Comment\": \"E-commerce ETL Pipeline Orchestration\",\n",
        "  \"StartAt\": \"Lambda Invoke\",\n",
        "  \"States\": {\n",
        "    \"Lambda Invoke\": {\n",
        "      \"Type\": \"Task\",\n",
        "      \"Resource\": \"arn:aws:states:::lambda:invoke\",\n",
        "      \"OutputPath\": \"$.Payload\",\n",
        "      \"Parameters\": {\n",
        "        \"Payload.$\": \"$\",\n",
        "        \"FunctionName\": \"arn:aws:lambda:ap-southeast-2:590183855618:function:FinalProject:$LATEST\"\n",
        "      },\n",
        "      \"Retry\": [\n",
        "        {\n",
        "          \"ErrorEquals\": [\n",
        "            \"Lambda.ServiceException\",\n",
        "            \"Lambda.AWSLambdaException\",\n",
        "            \"Lambda.SdkClientException\",\n",
        "            \"Lambda.TooManyRequestsException\"\n",
        "          ],\n",
        "          \"IntervalSeconds\": 1,\n",
        "          \"MaxAttempts\": 3,\n",
        "          \"BackoffRate\": 2\n",
        "        }\n",
        "      ],\n",
        "      \"Next\": \"Glue Job Has Started\"\n",
        "    },\n",
        "    \"Glue Job Has Started\": {\n",
        "      \"Type\": \"Wait\",\n",
        "      \"Seconds\": 300,\n",
        "      \"Next\": \"Success or Failure\"\n",
        "    },\n",
        "    \"Success or Failure\": {\n",
        "      \"Type\": \"Choice\",\n",
        "      \"Choices\": [\n",
        "        {\n",
        "          \"Variable\": \"$.JobRun.JobRunState\",\n",
        "          \"StringEquals\": \"SUCCEEDED\",\n",
        "          \"Next\": \"The Data is Pushed to redshift\"\n",
        "        },\n",
        "        {\n",
        "          \"Variable\": \"$.JobRun.JobRunState\",\n",
        "          \"StringEquals\": \"FAILED\",\n",
        "          \"Next\": \"The Glue job has failed\"\n",
        "        }\n",
        "      ]\n",
        "    },\n",
        "    \"The Data is Pushed to redshift\": {\n",
        "      \"Type\": \"Task\",\n",
        "      \"Resource\": \"arn:aws:states:::sns:publish\",\n",
        "      \"Parameters\": {\n",
        "        \"TopicArn\": \"arn:aws:sns:ap-southeast-2:590183855618:FinalProject\",\n",
        "        \"Message\": {\n",
        "          \"Message\": \"The Glue job has succeded.\"\n",
        "        }\n",
        "      },\n",
        "      \"End\": true\n",
        "    },\n",
        "    \"The Glue job has failed\": {\n",
        "      \"Type\": \"Task\",\n",
        "      \"Resource\": \"arn:aws:states:::sns:publish\",\n",
        "      \"Parameters\": {\n",
        "        \"TopicArn\": \"arn:aws:sns:ap-southeast-2:590183855618:FinalProject\",\n",
        "        \"Message\": {\n",
        "          \"Message\": \"The Glue job failed.\"\n",
        "        }\n",
        "      },\n",
        "      \"End\": true\n",
        "    }\n",
        "  }\n",
        "}"
      ],
      "metadata": {
        "id": "UKYZo-g5XkOt"
      },
      "execution_count": null,
      "outputs": []
    }
  ]
}