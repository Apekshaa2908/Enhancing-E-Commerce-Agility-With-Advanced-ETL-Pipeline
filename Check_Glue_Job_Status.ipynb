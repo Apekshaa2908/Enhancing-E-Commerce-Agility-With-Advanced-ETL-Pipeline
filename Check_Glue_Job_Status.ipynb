{
  "nbformat": 4,
  "nbformat_minor": 0,
  "metadata": {
    "colab": {
      "provenance": [],
      "authorship_tag": "ABX9TyP+42oBPUqXgBmGx0BDpfVq",
      "include_colab_link": true
    },
    "kernelspec": {
      "name": "python3",
      "display_name": "Python 3"
    },
    "language_info": {
      "name": "python"
    }
  },
  "cells": [
    {
      "cell_type": "markdown",
      "metadata": {
        "id": "view-in-github",
        "colab_type": "text"
      },
      "source": [
        "<a href=\"https://colab.research.google.com/github/Apekshaa2908/Enhancing-E-Commerce-Agility-With-Advanced-ETL-Pipeline/blob/main/Check_Glue_Job_Status.ipynb\" target=\"_parent\"><img src=\"https://colab.research.google.com/assets/colab-badge.svg\" alt=\"Open In Colab\"/></a>"
      ]
    },
    {
      "cell_type": "code",
      "execution_count": null,
      "metadata": {
        "id": "7-VvsEwKeFYE"
      },
      "outputs": [],
      "source": [
        "import json\n",
        "import boto3\n",
        "\n",
        "def lambda_handler(event, context):\n",
        "    glue_client = boto3.client('glue')\n",
        "\n",
        "    # Handle missing 'JobName' in the event\n",
        "    job_name = event.get('JobName')  # Default to 'order_return_glue_etl' if not provided\n",
        "    job_run_id = event.get('RunId')  # Optional RunId\n",
        "\n",
        "    try:\n",
        "        if job_run_id:\n",
        "            # Check the status of an existing Glue job\n",
        "            response = glue_client.get_job_run(\n",
        "                JobName=job_name,\n",
        "                RunId=job_run_id\n",
        "            )\n",
        "            return {\n",
        "                'statusCode': 200,\n",
        "                'body': json.dumps({\n",
        "                    'JobRunState': response['JobRun']['JobRunState']\n",
        "                })\n",
        "            }\n",
        "        else:\n",
        "            return {\n",
        "                'statusCode': 400,\n",
        "                'body': json.dumps({\n",
        "                    'message': 'RunId is missing from the event input'\n",
        "                })\n",
        "            }\n",
        "    except Exception as e:\n",
        "        return {\n",
        "            'statusCode': 500,\n",
        "            'body': json.dumps({\n",
        "                'message': 'Error checking Glue job status',\n",
        "                'error': str(e)\n",
        "            })\n",
        "        }\n",
        "\n"
      ]
    }
  ]
}