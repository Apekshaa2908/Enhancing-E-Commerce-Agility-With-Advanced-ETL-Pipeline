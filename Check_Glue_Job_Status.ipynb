{
  "nbformat": 4,
  "nbformat_minor": 0,
  "metadata": {
    "colab": {
      "provenance": [],
      "authorship_tag": "ABX9TyN9O+F1krv3VTf8eaan9RAE",
      "include_colab_link": true
    },
    "kernelspec": {
      "name": "python3",
      "display_name": "Python 3"
    },
    "language_info": {
      "name": "python"
    }
  },
  "cells": [
    {
      "cell_type": "markdown",
      "metadata": {
        "id": "view-in-github",
        "colab_type": "text"
      },
      "source": [
        "<a href=\"https://colab.research.google.com/github/Apekshaa2908/Enhancing-E-Commerce-Agility-With-Advanced-ETL-Pipeline/blob/main/Check_Glue_Job_Status.ipynb\" target=\"_parent\"><img src=\"https://colab.research.google.com/assets/colab-badge.svg\" alt=\"Open In Colab\"/></a>"
      ]
    },
    {
      "cell_type": "code",
      "execution_count": null,
      "metadata": {
        "id": "7-VvsEwKeFYE"
      },
      "outputs": [],
      "source": [
        "import boto3\n",
        "\n",
        "def lambda_handler(event, context):\n",
        "    glue_client = boto3.client('glue')\n",
        "    job_name = event['JobName']\n",
        "    run_id = event.get('RunId')  # Optional, if passed\n",
        "\n",
        "    try:\n",
        "        response = glue_client.get_job_run(JobName=job_name, RunId=run_id)\n",
        "        job_run_state = response['JobRun']['JobRunState']\n",
        "        return {\"JobRunState\": job_run_state}\n",
        "    except Exception as e:\n",
        "        return {\"JobRunState\": \"FAILED\", \"Error\": str(e)}\n"
      ]
    }
  ]
}