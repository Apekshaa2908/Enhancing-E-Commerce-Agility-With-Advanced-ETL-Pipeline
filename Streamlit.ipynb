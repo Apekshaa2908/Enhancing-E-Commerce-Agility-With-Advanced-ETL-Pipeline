{
  "cells": [
    {
      "cell_type": "markdown",
      "metadata": {
        "id": "view-in-github",
        "colab_type": "text"
      },
      "source": [
        "<a href=\"https://colab.research.google.com/github/Apekshaa2908/Enhancing-E-Commerce-Agility-With-Advanced-ETL-Pipeline/blob/main/Streamlit.ipynb\" target=\"_parent\"><img src=\"https://colab.research.google.com/assets/colab-badge.svg\" alt=\"Open In Colab\"/></a>"
      ]
    },
    {
      "cell_type": "code",
      "source": [
        "!pip install streamlit\n",
        "!pip install boto3"
      ],
      "metadata": {
        "id": "Anzo_hAypt7J"
      },
      "execution_count": null,
      "outputs": []
    },
    {
      "cell_type": "code",
      "source": [
        "%%writefile app.py\n",
        "import streamlit as st\n",
        "import boto3\n",
        "from botocore.exceptions import NoCredentialsError, ClientError\n",
        "import json\n",
        "\n",
        "def get_aws_credentials(secret_name):\n",
        "    # Create a Secrets Manager client\n",
        "    session = boto3.session.Session()\n",
        "    client = session.client(service_name='secretsmanager', region_name='ap-southeast-2')\n",
        "\n",
        "    try:\n",
        "        # Retrieve the secret\n",
        "        get_secret_value_response = client.get_secret_value(SecretId=secret_name)\n",
        "        secret = get_secret_value_response['SecretString']\n",
        "        return json.loads(secret)  # Return as dictionary\n",
        "    except ClientError as e:\n",
        "        st.error(f\"Error retrieving AWS credentials: {e}\")\n",
        "        return None\n",
        "\n",
        "def upload_to_s3(file, bucket, filename):\n",
        "    # Get AWS credentials from Secrets Manager\n",
        "    credentials = get_aws_credentials(\"AWS_CREDENTIALS\")\n",
        "    if credentials is None:\n",
        "        return\n",
        "\n",
        "    # Provide AWS credentials explicitly\n",
        "    s3 = boto3.client(\n",
        "        's3',\n",
        "        aws_access_key_id=credentials['aws_access_key_id'],\n",
        "        aws_secret_access_key=credentials['aws_secret_access_key'],\n",
        "        region_name='ap-southeast-2'\n",
        "    )\n",
        "\n",
        "    try:\n",
        "        s3.upload_fileobj(file, bucket, filename)\n",
        "        st.success(f'File {filename} uploaded successfully to {bucket}')\n",
        "    except NoCredentialsError:\n",
        "        st.error('Credentials not available')\n",
        "\n",
        "st.title('Order and Returns Data Upload')\n",
        "\n",
        "uploaded_file = st.file_uploader(\"Choose a file\")\n",
        "\n",
        "if uploaded_file:\n",
        "    st.write(f\"Selected file: {uploaded_file.name}\")\n",
        "\n",
        "    # Create a button to trigger the upload\n",
        "    if st.button(\"Upload File\"):\n",
        "        if 'order table' in uploaded_file.name.lower():\n",
        "            upload_to_s3(uploaded_file, 'order-apekshaa', uploaded_file.name)\n",
        "        elif 'return table' in uploaded_file.name.lower():\n",
        "            upload_to_s3(uploaded_file, 'return-apekshaa', uploaded_file.name)\n",
        "        else:\n",
        "            st.error(\"Invalid file. Please upload either an 'order table' or 'Return Table' file.\")"
      ],
      "metadata": {
        "id": "Gj_YmMQJpvBE"
      },
      "execution_count": null,
      "outputs": []
    },
    {
      "cell_type": "code",
      "source": [
        "! wget -q -O - ipv4.icanhazip.com\n",
        "! streamlit run app.py & npx localtunnel --port 8501"
      ],
      "metadata": {
        "id": "I_rJUEgTpllw"
      },
      "execution_count": null,
      "outputs": []
    }
  ],
  "metadata": {
    "colab": {
      "provenance": [],
      "authorship_tag": "ABX9TyNkX4lEClEBI5HsKUA0DE+n",
      "include_colab_link": true
    },
    "kernelspec": {
      "display_name": "Python 3",
      "name": "python3"
    },
    "language_info": {
      "name": "python"
    }
  },
  "nbformat": 4,
  "nbformat_minor": 0
}