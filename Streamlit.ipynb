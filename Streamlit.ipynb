{
  "cells": [
    {
      "cell_type": "markdown",
      "metadata": {
        "id": "view-in-github",
        "colab_type": "text"
      },
      "source": [
        "<a href=\"https://colab.research.google.com/github/Apekshaa2908/Enhancing-E-Commerce-Agility-With-Advanced-ETL-Pipeline/blob/main/Streamlit.ipynb\" target=\"_parent\"><img src=\"https://colab.research.google.com/assets/colab-badge.svg\" alt=\"Open In Colab\"/></a>"
      ]
    },
    {
      "cell_type": "code",
      "source": [
        "!pip install streamlit\n",
        "!pip install boto3"
      ],
      "metadata": {
        "id": "CUVAi1KfGZvT"
      },
      "execution_count": null,
      "outputs": []
    },
    {
      "cell_type": "code",
      "source": [
        "%%writefile app.py\n",
        "import streamlit as st\n",
        "import boto3\n",
        "import pandas as pd\n",
        "from io import BytesIO\n",
        "\n",
        "# Streamlit app title\n",
        "st.title('Upload Order and Return CSV Files to S3 Buckets')\n",
        "\n",
        "# Input fields for AWS credentials\n",
        "st.subheader(\"AWS Credentials\")\n",
        "aws_access_key_id = st.text_input(\"AWS Access Key ID\", type=\"password\")\n",
        "aws_secret_access_key = st.text_input(\"AWS Secret Access Key\", type=\"password\")\n",
        "\n",
        "# Define bucket names\n",
        "ORDER_BUCKET = 'order-apekshaa'\n",
        "RETURN_BUCKET = 'return-apekshaa'\n",
        "\n",
        "# Initialize the S3 client only if credentials are provided\n",
        "if aws_access_key_id and aws_secret_access_key:\n",
        "    s3 = boto3.client(\n",
        "        's3',\n",
        "        aws_access_key_id=aws_access_key_id,\n",
        "        aws_secret_access_key=aws_secret_access_key,\n",
        "        region_name='ap-southeast-2'\n",
        "    )\n",
        "\n",
        "    # Function to upload files to S3\n",
        "    def upload_to_s3(file, bucket_name, file_name):\n",
        "        try:\n",
        "            # Convert the file to a byte stream\n",
        "            file_buffer = BytesIO()\n",
        "            file.to_csv(file_buffer, index=False)\n",
        "            file_buffer.seek(0)\n",
        "\n",
        "            # Upload to S3\n",
        "            s3.put_object(Bucket=bucket_name, Key=file_name, Body=file_buffer.getvalue())\n",
        "            st.success(f'File {file_name} uploaded to {bucket_name}')\n",
        "        except Exception as e:\n",
        "            st.error(f\"Error uploading {file_name}: {str(e)}\")\n",
        "\n",
        "    # Upload order_table\n",
        "    order_file = st.file_uploader(\"Upload order_table CSV\", type=[\"csv\"], key=\"order_file\")\n",
        "    if order_file:\n",
        "        order_df = pd.read_csv(order_file)\n",
        "        st.dataframe(order_df)  # Display uploaded CSV in the app\n",
        "        if st.button(\"Upload order_table to S3\"):\n",
        "            upload_to_s3(order_df, ORDER_BUCKET, 'order_table.csv')\n",
        "\n",
        "    # Upload return_table\n",
        "    return_file = st.file_uploader(\"Upload return_table CSV\", type=[\"csv\"], key=\"return_file\")\n",
        "    if return_file:\n",
        "        return_df = pd.read_csv(return_file)\n",
        "        st.dataframe(return_df)  # Display uploaded CSV in the app\n",
        "        if st.button(\"Upload return_table to S3\"):\n",
        "            upload_to_s3(return_df, RETURN_BUCKET, 'return_table.csv')\n",
        "else:\n",
        "    st.warning(\"Please enter your AWS credentials to proceed.\")\n"
      ],
      "metadata": {
        "id": "AD0cZOroGu7r"
      },
      "execution_count": null,
      "outputs": []
    },
    {
      "cell_type": "code",
      "source": [
        "! wget -q -O - ipv4.icanhazip.com\n",
        "! streamlit run app.py & npx localtunnel --port 8501"
      ],
      "metadata": {
        "id": "qRMDHJgG4I60"
      },
      "execution_count": null,
      "outputs": []
    }
  ],
  "metadata": {
    "colab": {
      "provenance": [],
      "include_colab_link": true
    },
    "kernelspec": {
      "display_name": "Python 3",
      "name": "python3"
    },
    "language_info": {
      "name": "python"
    }
  },
  "nbformat": 4,
  "nbformat_minor": 0
}