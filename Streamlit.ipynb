{
  "cells": [
    {
      "cell_type": "markdown",
      "metadata": {
        "id": "view-in-github",
        "colab_type": "text"
      },
      "source": [
        "<a href=\"https://colab.research.google.com/github/Apekshaa2908/Enhancing-E-Commerce-Agility-With-Advanced-ETL-Pipeline/blob/main/Streamlit.ipynb\" target=\"_parent\"><img src=\"https://colab.research.google.com/assets/colab-badge.svg\" alt=\"Open In Colab\"/></a>"
      ]
    },
    {
      "cell_type": "code",
      "source": [
        "!pip install streamlit\n",
        "!pip install boto3"
      ],
      "metadata": {
        "id": "fCyv7_67ExYn",
        "outputId": "7921acf0-f119-4565-c412-c0798571c5b9",
        "colab": {
          "base_uri": "https://localhost:8080/"
        }
      },
      "execution_count": null,
      "outputs": [
        {
          "metadata": {
            "tags": null
          },
          "name": "stdout",
          "output_type": "stream",
          "text": [
            "Requirement already satisfied: streamlit in /usr/local/lib/python3.10/dist-packages (1.38.0)\n",
            "Requirement already satisfied: altair<6,>=4.0 in /usr/local/lib/python3.10/dist-packages (from streamlit) (4.2.2)\n",
            "Requirement already satisfied: blinker<2,>=1.0.0 in /usr/lib/python3/dist-packages (from streamlit) (1.4)\n",
            "Requirement already satisfied: cachetools<6,>=4.0 in /usr/local/lib/python3.10/dist-packages (from streamlit) (5.5.0)\n",
            "Requirement already satisfied: click<9,>=7.0 in /usr/local/lib/python3.10/dist-packages (from streamlit) (8.1.7)\n",
            "Requirement already satisfied: numpy<3,>=1.20 in /usr/local/lib/python3.10/dist-packages (from streamlit) (1.26.4)\n",
            "Requirement already satisfied: packaging<25,>=20 in /usr/local/lib/python3.10/dist-packages (from streamlit) (24.1)\n",
            "Requirement already satisfied: pandas<3,>=1.3.0 in /usr/local/lib/python3.10/dist-packages (from streamlit) (2.1.4)\n",
            "Requirement already satisfied: pillow<11,>=7.1.0 in /usr/local/lib/python3.10/dist-packages (from streamlit) (10.4.0)\n",
            "Requirement already satisfied: protobuf<6,>=3.20 in /usr/local/lib/python3.10/dist-packages (from streamlit) (3.20.3)\n",
            "Requirement already satisfied: pyarrow>=7.0 in /usr/local/lib/python3.10/dist-packages (from streamlit) (14.0.2)\n",
            "Requirement already satisfied: requests<3,>=2.27 in /usr/local/lib/python3.10/dist-packages (from streamlit) (2.32.3)\n",
            "Requirement already satisfied: rich<14,>=10.14.0 in /usr/local/lib/python3.10/dist-packages (from streamlit) (13.8.1)\n",
            "Requirement already satisfied: tenacity<9,>=8.1.0 in /usr/local/lib/python3.10/dist-packages (from streamlit) (8.5.0)\n",
            "Requirement already satisfied: toml<2,>=0.10.1 in /usr/local/lib/python3.10/dist-packages (from streamlit) (0.10.2)\n",
            "Requirement already satisfied: typing-extensions<5,>=4.3.0 in /usr/local/lib/python3.10/dist-packages (from streamlit) (4.12.2)\n",
            "Requirement already satisfied: gitpython!=3.1.19,<4,>=3.0.7 in /usr/local/lib/python3.10/dist-packages (from streamlit) (3.1.43)\n",
            "Requirement already satisfied: pydeck<1,>=0.8.0b4 in /usr/local/lib/python3.10/dist-packages (from streamlit) (0.9.1)\n",
            "Requirement already satisfied: tornado<7,>=6.0.3 in /usr/local/lib/python3.10/dist-packages (from streamlit) (6.3.3)\n",
            "Requirement already satisfied: watchdog<5,>=2.1.5 in /usr/local/lib/python3.10/dist-packages (from streamlit) (4.0.2)\n",
            "Requirement already satisfied: entrypoints in /usr/local/lib/python3.10/dist-packages (from altair<6,>=4.0->streamlit) (0.4)\n",
            "Requirement already satisfied: jinja2 in /usr/local/lib/python3.10/dist-packages (from altair<6,>=4.0->streamlit) (3.1.4)\n",
            "Requirement already satisfied: jsonschema>=3.0 in /usr/local/lib/python3.10/dist-packages (from altair<6,>=4.0->streamlit) (4.23.0)\n",
            "Requirement already satisfied: toolz in /usr/local/lib/python3.10/dist-packages (from altair<6,>=4.0->streamlit) (0.12.1)\n",
            "Requirement already satisfied: gitdb<5,>=4.0.1 in /usr/local/lib/python3.10/dist-packages (from gitpython!=3.1.19,<4,>=3.0.7->streamlit) (4.0.11)\n",
            "Requirement already satisfied: python-dateutil>=2.8.2 in /usr/local/lib/python3.10/dist-packages (from pandas<3,>=1.3.0->streamlit) (2.8.2)\n",
            "Requirement already satisfied: pytz>=2020.1 in /usr/local/lib/python3.10/dist-packages (from pandas<3,>=1.3.0->streamlit) (2024.2)\n",
            "Requirement already satisfied: tzdata>=2022.1 in /usr/local/lib/python3.10/dist-packages (from pandas<3,>=1.3.0->streamlit) (2024.1)\n",
            "Requirement already satisfied: charset-normalizer<4,>=2 in /usr/local/lib/python3.10/dist-packages (from requests<3,>=2.27->streamlit) (3.3.2)\n",
            "Requirement already satisfied: idna<4,>=2.5 in /usr/local/lib/python3.10/dist-packages (from requests<3,>=2.27->streamlit) (3.10)\n",
            "Requirement already satisfied: urllib3<3,>=1.21.1 in /usr/local/lib/python3.10/dist-packages (from requests<3,>=2.27->streamlit) (2.2.3)\n",
            "Requirement already satisfied: certifi>=2017.4.17 in /usr/local/lib/python3.10/dist-packages (from requests<3,>=2.27->streamlit) (2024.8.30)\n",
            "Requirement already satisfied: markdown-it-py>=2.2.0 in /usr/local/lib/python3.10/dist-packages (from rich<14,>=10.14.0->streamlit) (3.0.0)\n",
            "Requirement already satisfied: pygments<3.0.0,>=2.13.0 in /usr/local/lib/python3.10/dist-packages (from rich<14,>=10.14.0->streamlit) (2.18.0)\n",
            "Requirement already satisfied: smmap<6,>=3.0.1 in /usr/local/lib/python3.10/dist-packages (from gitdb<5,>=4.0.1->gitpython!=3.1.19,<4,>=3.0.7->streamlit) (5.0.1)\n",
            "Requirement already satisfied: MarkupSafe>=2.0 in /usr/local/lib/python3.10/dist-packages (from jinja2->altair<6,>=4.0->streamlit) (2.1.5)\n",
            "Requirement already satisfied: attrs>=22.2.0 in /usr/local/lib/python3.10/dist-packages (from jsonschema>=3.0->altair<6,>=4.0->streamlit) (24.2.0)\n",
            "Requirement already satisfied: jsonschema-specifications>=2023.03.6 in /usr/local/lib/python3.10/dist-packages (from jsonschema>=3.0->altair<6,>=4.0->streamlit) (2023.12.1)\n",
            "Requirement already satisfied: referencing>=0.28.4 in /usr/local/lib/python3.10/dist-packages (from jsonschema>=3.0->altair<6,>=4.0->streamlit) (0.35.1)\n",
            "Requirement already satisfied: rpds-py>=0.7.1 in /usr/local/lib/python3.10/dist-packages (from jsonschema>=3.0->altair<6,>=4.0->streamlit) (0.20.0)\n",
            "Requirement already satisfied: mdurl~=0.1 in /usr/local/lib/python3.10/dist-packages (from markdown-it-py>=2.2.0->rich<14,>=10.14.0->streamlit) (0.1.2)\n",
            "Requirement already satisfied: six>=1.5 in /usr/local/lib/python3.10/dist-packages (from python-dateutil>=2.8.2->pandas<3,>=1.3.0->streamlit) (1.16.0)\n"
          ]
        }
      ]
    },
    {
      "cell_type": "code",
      "source": [
        "%%writefile app.py\n",
        "import streamlit as st\n",
        "import boto3\n",
        "import pandas as pd\n",
        "from io import BytesIO\n",
        "import time\n",
        "\n",
        "# Function to read AWS credentials from a text file\n",
        "def read_credentials(file_path):\n",
        "    with open(file_path, 'r') as f:\n",
        "        lines = f.readlines()\n",
        "        credentials = {}\n",
        "        for line in lines:\n",
        "            key, value = line.split(':', 1)\n",
        "            credentials[key.strip()] = value.strip()\n",
        "    return credentials\n",
        "\n",
        "# Load AWS credentials from a file\n",
        "credentials = read_credentials('ETL Access Key.txt')\n",
        "\n",
        "# Assigning the credentials\n",
        "aws_access_key_id = credentials['Access Key']\n",
        "aws_secret_access_key = credentials['Secret Access Key']\n",
        "region_name = credentials['Region']\n",
        "\n",
        "# Define bucket names and Glue job name\n",
        "ORDER_BUCKET = 'order-apekshaa'\n",
        "RETURN_BUCKET = 'return-apekshaa'\n",
        "GLUE_JOB_NAME = 'order_return_glue_etl'  # The name of the Glue job to monitor\n",
        "\n",
        "# Initialize the S3 and Glue clients\n",
        "s3 = boto3.client(\n",
        "    's3',\n",
        "    aws_access_key_id=aws_access_key_id,\n",
        "    aws_secret_access_key=aws_secret_access_key,\n",
        "    region_name=region_name\n",
        ")\n",
        "\n",
        "glue = boto3.client(\n",
        "    'glue',\n",
        "    aws_access_key_id=aws_access_key_id,\n",
        "    aws_secret_access_key=aws_secret_access_key,\n",
        "    region_name=region_name\n",
        ")\n",
        "\n",
        "# Function to upload files to S3\n",
        "def upload_to_s3(file, bucket_name, file_name):\n",
        "    try:\n",
        "        file_buffer = BytesIO()\n",
        "        file.to_csv(file_buffer, index=False)\n",
        "        file_buffer.seek(0)\n",
        "        s3.put_object(Bucket=bucket_name, Key=file_name, Body=file_buffer.getvalue())\n",
        "        st.success(f'File {file_name} uploaded to {bucket_name}')\n",
        "    except Exception as e:\n",
        "        st.error(f\"Error uploading {file_name}: {str(e)}\")\n",
        "\n",
        "# Function to check Glue job status\n",
        "def check_glue_job_status(job_run_id):\n",
        "    response = glue.get_job_run(JobName=GLUE_JOB_NAME, RunId=job_run_id)\n",
        "    return response['JobRun']['JobRunState']\n",
        "\n",
        "# File uploaders\n",
        "order_file = st.file_uploader(\"Upload order_table CSV\", type=[\"csv\"], key=\"order_file\")\n",
        "return_file = st.file_uploader(\"Upload return_table CSV\", type=[\"csv\"], key=\"return_file\")\n",
        "\n",
        "# Upload button for both files\n",
        "if order_file and return_file:\n",
        "    if st.button(\"Upload Both Files\"):\n",
        "        # Upload both files to S3\n",
        "        order_df = pd.read_csv(order_file)\n",
        "        return_df = pd.read_csv(return_file)\n",
        "\n",
        "        upload_to_s3(order_df, ORDER_BUCKET, 'order_table.csv')\n",
        "        upload_to_s3(return_df, RETURN_BUCKET, 'return_table.csv')\n",
        "\n",
        "        st.success(\"Both files uploaded. Monitoring Glue job...\")\n",
        "\n",
        "        # Assume the Glue job runs automatically; we need to fetch the most recent job run ID\n",
        "        with st.spinner(\"Fetching the latest Glue job run ID...\"):\n",
        "            response = glue.get_job_runs(JobName=GLUE_JOB_NAME)\n",
        "            latest_run = response['JobRuns'][0]  # Get the most recent job run\n",
        "            job_run_id = latest_run['Id']\n",
        "            st.write(f'Monitoring Glue job with Run ID: {job_run_id}')\n",
        "\n",
        "            # Monitor the Glue job status\n",
        "            while True:\n",
        "                time.sleep(60)  # Check every minute\n",
        "                status = check_glue_job_status(job_run_id)\n",
        "                st.write(f'Current Glue job status: {status}')\n",
        "\n",
        "                if status in ['SUCCEEDED', 'FAILED', 'STOPPED']:\n",
        "                    st.success(f'Glue job has {\"succeeded\" if status == \"SUCCEEDED\" else \"failed\" if status == \"FAILED\" else \"stopped\"}!')\n",
        "                    break\n",
        "else:\n",
        "    st.warning(\"Please upload both order_table and return_table CSV files to proceed.\")\n"
      ],
      "metadata": {
        "id": "_IoP0YYw8KHj",
        "outputId": "9e80350a-6167-4bbd-a9f0-001f95c0bc92",
        "colab": {
          "base_uri": "https://localhost:8080/"
        }
      },
      "execution_count": 2,
      "outputs": [
        {
          "output_type": "stream",
          "name": "stdout",
          "text": [
            "Overwriting app.py\n"
          ]
        }
      ]
    },
    {
      "cell_type": "code",
      "source": [
        "! wget -q -O - ipv4.icanhazip.com\n",
        "! streamlit run app.py & npx localtunnel --port 8501"
      ],
      "metadata": {
        "id": "ezy3HmrlErBi",
        "outputId": "417d2db1-27e4-4a9f-d57c-ef7bfe9e82aa",
        "colab": {
          "base_uri": "https://localhost:8080/"
        }
      },
      "execution_count": 3,
      "outputs": [
        {
          "output_type": "stream",
          "name": "stdout",
          "text": [
            "35.229.34.235\n",
            "\n",
            "Collecting usage statistics. To deactivate, set browser.gatherUsageStats to false.\n",
            "\u001b[0m\n",
            "\u001b[0m\n",
            "\u001b[34m\u001b[1m  You can now view your Streamlit app in your browser.\u001b[0m\n",
            "\u001b[0m\n",
            "\u001b[34m  Local URL: \u001b[0m\u001b[1mhttp://localhost:8501\u001b[0m\n",
            "\u001b[34m  Network URL: \u001b[0m\u001b[1mhttp://172.28.0.12:8501\u001b[0m\n",
            "\u001b[34m  External URL: \u001b[0m\u001b[1mhttp://35.229.34.235:8501\u001b[0m\n",
            "\u001b[0m\n",
            "your url is: https://busy-knives-make.loca.lt\n",
            "\u001b[34m  Stopping...\u001b[0m\n",
            "^C\n"
          ]
        }
      ]
    },
    {
      "cell_type": "code",
      "source": [],
      "metadata": {
        "id": "ir3oWryVIuBO"
      },
      "execution_count": null,
      "outputs": []
    }
  ],
  "metadata": {
    "colab": {
      "provenance": [],
      "include_colab_link": true
    },
    "kernelspec": {
      "display_name": "Python 3",
      "name": "python3"
    },
    "language_info": {
      "name": "python"
    }
  },
  "nbformat": 4,
  "nbformat_minor": 0
}